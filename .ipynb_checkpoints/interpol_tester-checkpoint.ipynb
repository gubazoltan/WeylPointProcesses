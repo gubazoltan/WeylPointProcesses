{
 "cells": [
  {
   "cell_type": "markdown",
   "id": "9150823e-460b-4d6b-a31c-26e542826db8",
   "metadata": {},
   "source": [
    "### Interpolation between 4 and 2 Weyl-point configurations"
   ]
  },
  {
   "cell_type": "code",
   "execution_count": 1,
   "id": "872358cf-40c5-4dcf-8dd9-46078f535147",
   "metadata": {},
   "outputs": [],
   "source": [
    "#import the things we need\n",
    "import numpy as np\n",
    "import sympy as sp\n",
    "import wpp2\n",
    "import matplotlib.pyplot as plt\n",
    "import timeit\n",
    "import interpol as itp"
   ]
  },
  {
   "cell_type": "markdown",
   "id": "69b25a6c-3ffd-4ade-9202-584085ebb756",
   "metadata": {},
   "source": [
    "Read in a system with 4 and 2 Weyl-points"
   ]
  },
  {
   "cell_type": "code",
   "execution_count": 2,
   "id": "92af76ab-b5dd-42b9-bb58-51213886fba5",
   "metadata": {},
   "outputs": [],
   "source": [
    "#obtain the expressions from the datasets\n",
    "#x1 and z1 correspond to a configuration containing 4 Weyl-points\n",
    "#x2 and z2 correspond to a configuration containing 2 Weyl-points\n",
    "x1_str = \"Add(Mul(Integer(-1), Float('0.14840720498475934', precision=53), sin(Symbol('beta_2', Real=True))), Mul(Integer(-1), Float('0.075442989493315848', precision=53), sin(Mul(Integer(2), Symbol('beta_2', Real=True)))), Mul(Integer(-1), Float('0.045838237294261619', precision=53), sin(Mul(Integer(3), Symbol('beta_2', Real=True)))))\"\n",
    "z1_str = \"Add(Mul(Integer(-1), Float('0.10204460847341812', precision=53), sin(Symbol('beta_1', Real=True))), Mul(Integer(-1), Float('0.48702851911378509', precision=53), sin(Mul(Integer(2), Symbol('beta_1', Real=True)))), Mul(Float('0.45208901439125093', precision=53), sin(Mul(Integer(3), Symbol('beta_1', Real=True)))), Mul(Integer(-1), Float('0.30357448883056837', precision=53), cos(Symbol('beta_1', Real=True))), Mul(Float('0.27338788543667658', precision=53), cos(Mul(Integer(2), Symbol('beta_1', Real=True)))), Mul(Integer(-1), Float('0.36570037800494737', precision=53), cos(Mul(Integer(3), Symbol('beta_1', Real=True)))), Mul(Integer(-1), Float('0.44963234997559165', precision=53), cos(Symbol('beta_2', Real=True))), Mul(Float('0.20812364078015766', precision=53), cos(Mul(Integer(2), Symbol('beta_2', Real=True)))), Mul(Integer(-1), Float('0.21683888381349004', precision=53), cos(Mul(Integer(3), Symbol('beta_2', Real=True)))))\"\n",
    "x2_str = \"Add(Mul(Float('0.37257736193066882', precision=53), sin(Symbol('beta_2', Real=True))), Mul(Float('0.11796311630773015', precision=53), sin(Mul(Integer(2), Symbol('beta_2', Real=True)))), Mul(Float('0.21779037564701997', precision=53), sin(Mul(Integer(3), Symbol('beta_2', Real=True)))))\"\n",
    "z2_str = \"Add(Mul(Float('0.063538512235609024', precision=53), sin(Symbol('beta_1', Real=True))), Mul(Integer(-1), Float('0.13969581840940326', precision=53), sin(Mul(Integer(2), Symbol('beta_1', Real=True)))), Mul(Float('0.058839935102390495', precision=53), sin(Mul(Integer(3), Symbol('beta_1', Real=True)))), Mul(Float('0.41272339912468914', precision=53), cos(Symbol('beta_1', Real=True))), Mul(Integer(-1), Float('0.44158127558384352', precision=53), cos(Mul(Integer(2), Symbol('beta_1', Real=True)))), Mul(Float('0.14938490866650866', precision=53), cos(Mul(Integer(3), Symbol('beta_1', Real=True)))), Mul(Float('0.25857334395235199', precision=53), cos(Symbol('beta_2', Real=True))), Mul(Integer(-1), Float('0.37254760528159625', precision=53), cos(Mul(Integer(2), Symbol('beta_2', Real=True)))), Mul(Float('0.45285577626455886', precision=53), cos(Mul(Integer(3), Symbol('beta_2', Real=True)))))\""
   ]
  },
  {
   "cell_type": "markdown",
   "id": "bbbdd2e2-9f5c-4d6f-97b2-40e3a2d11bc4",
   "metadata": {},
   "source": [
    "The above expressions can be copied from the datafiles."
   ]
  },
  {
   "cell_type": "code",
   "execution_count": 3,
   "id": "2693314d-0430-4c4e-82cb-1ef3b31661a1",
   "metadata": {},
   "outputs": [],
   "source": [
    "#reobtain the expressions from the strings\n",
    "x1 = sp.parsing.sympy_parser.parse_expr(x1_str)\n",
    "z1 = sp.parsing.sympy_parser.parse_expr(z1_str)\n",
    "x2 = sp.parsing.sympy_parser.parse_expr(x2_str)\n",
    "z2 = sp.parsing.sympy_parser.parse_expr(z2_str)"
   ]
  },
  {
   "cell_type": "markdown",
   "id": "6568451d-467c-4c70-a8c6-7f88c2b15a67",
   "metadata": {},
   "source": [
    "Retrieve the symbols"
   ]
  },
  {
   "cell_type": "code",
   "execution_count": 5,
   "id": "f6143384-78a3-428e-a77e-a34468a4504f",
   "metadata": {},
   "outputs": [
    {
     "name": "stdout",
     "output_type": "stream",
     "text": [
      "[beta_2, beta_1]\n"
     ]
    }
   ],
   "source": [
    "#we need to get back the symbols from the expressions to use them again\n",
    "symbol_list = list(z2.free_symbols)\n",
    "print(symbol_list)\n",
    "beta2 = symbol_list[0]\n",
    "beta1 = symbol_list[1]"
   ]
  },
  {
   "cell_type": "code",
   "execution_count": 6,
   "id": "320ee79a-8a43-4a22-ac80-1034b51d82d3",
   "metadata": {},
   "outputs": [],
   "source": [
    "#define a discrete interpolation\n",
    "ts = np.linspace(0., 1., 100)"
   ]
  },
  {
   "cell_type": "code",
   "execution_count": 7,
   "id": "ebaf6636-015a-4727-8832-afcd4a648101",
   "metadata": {
    "tags": []
   },
   "outputs": [],
   "source": [
    "#do the interpolation, get the location and charges of the weyl points as a function of the interpolator t\n",
    "locs_t, charges_t = itp.three_point_process(x1 = x1, z1 = z1, x2 = x2, z2 = z2, beta1 = beta1, beta2 = beta2, ts = ts)"
   ]
  },
  {
   "cell_type": "code",
   "execution_count": 8,
   "id": "b853dc15-24c3-4c58-a4bb-61ebe5b1c55e",
   "metadata": {},
   "outputs": [
    {
     "data": {
      "image/png": "[encoded data removed]",
      "text/plain": [
       "<Figure size 400x300 with 1 Axes>"
      ]
     },
     "metadata": {},
     "output_type": "display_data"
    }
   ],
   "source": [
    "#Consistency check: calculate the total charge as a function of t\n",
    "csum = [np.sum(charges_t[i]) for i in range(len(charges_t))]\n",
    "fig = plt.figure(figsize =(4,3))\n",
    "plt.scatter(ts, csum)\n",
    "plt.xlabel(r\"$t$\", fontsize = 14)\n",
    "plt.ylabel(r\"$Q_{\\mathrm{total}}$\", fontsize = 14)\n",
    "plt.yticks([-1,0,1])\n",
    "plt.xlim(-0.02,1.02)\n",
    "#plt.title(r\"Total charge of the system during the interpolation\" + \"\\n\" + r\"$D(t) = \\left( 1 - t \\right) \\cdot D_1 +  t \\cdot D_2$\", fontsize = 10 )\n",
    "plt.savefig(\"intpol_totcharge_1.pdf\", dpi = 500, bbox_inches='tight')\n",
    "plt.show()"
   ]
  },
  {
   "cell_type": "code",
   "execution_count": 17,
   "id": "4c789453-d65d-4199-85ec-a59354366de2",
   "metadata": {},
   "outputs": [
    {
     "data": {
      "image/png": "[encoded data removed]",
      "text/plain": [
       "<Figure size 400x300 with 1 Axes>"
      ]
     },
     "metadata": {},
     "output_type": "display_data"
    }
   ],
   "source": [
    "#Calculate the number of Weyl-points during the interpolation\n",
    "wpnum = [len(locs_t[i]) for i in range(len(locs_t))]\n",
    "fig = plt.figure(figsize =(4,3))\n",
    "plt.scatter(ts, wpnum, s = 5, color =\"black\")\n",
    "plt.xlabel(r\"$t$\", fontsize = 14)\n",
    "plt.ylabel(r\"# Weyl-points\", fontsize = 14)\n",
    "plt.yticks([2, 4, 6, 8, 10, 20, 30])\n",
    "plt.xlim(-0.02,1.02)\n",
    "#plt.title(r\"Total number of Weyl-points in the system during the interpolation\" + \"\\n\" + r\"$D(t) = \\left( 1 - t \\right) \\cdot D_1 +  t \\cdot D_2$\", fontsize = 10 )\n",
    "plt.savefig(\"intpol_totnum_1.pdf\", dpi = 500, bbox_inches='tight')\n",
    "plt.show()"
   ]
  },
  {
   "cell_type": "code",
   "execution_count": null,
   "id": "e98b6e23-bbbd-4196-8687-437a579ecdac",
   "metadata": {},
   "outputs": [],
   "source": []
  }
 ],
 "metadata": {
  "kernelspec": {
   "display_name": "Python 3 (ipykernel)",
   "language": "python",
   "name": "python3"
  },
  "language_info": {
   "codemirror_mode": {
    "name": "ipython",
    "version": 3
   },
   "file_extension": ".py",
   "mimetype": "text/x-python",
   "name": "python",
   "nbconvert_exporter": "python",
   "pygments_lexer": "ipython3",
   "version": "3.9.7"
  }
 },
 "nbformat": 4,
 "nbformat_minor": 5
}
