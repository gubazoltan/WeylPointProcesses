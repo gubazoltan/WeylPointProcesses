{
 "cells": [
  {
   "cell_type": "code",
   "execution_count": 1,
   "id": "88cb625b-8639-437c-b7d2-9d9f34cdab30",
   "metadata": {},
   "outputs": [],
   "source": [
    "import numpy as np\n",
    "import sympy as sp\n",
    "import weylpointprocesses as wpp\n",
    "import matplotlib.pyplot as plt\n",
    "import timeit"
   ]
  },
  {
   "cell_type": "code",
   "execution_count": 12,
   "id": "328fe6b5-49ac-44e8-a94b-f197c45e9aeb",
   "metadata": {},
   "outputs": [],
   "source": [
    "f = sp.parsing.sympy_parser.parse_expr(\"Add(Pow(Symbol('x'), Integer(2)), Pow(Symbol('y'), Integer(2)))\")\n",
    "g = sp.parsing.sympy_parser.parse_expr(\"Mul(Symbol('x'), Symbol('y'))\")"
   ]
  },
  {
   "cell_type": "code",
   "execution_count": 13,
   "id": "862db7f5-77d5-4c47-ac2e-ac1a15510fd9",
   "metadata": {},
   "outputs": [],
   "source": [
    "lst = list(g.free_symbols)\n",
    "x = lst[0]\n",
    "y = lst[1]"
   ]
  },
  {
   "cell_type": "code",
   "execution_count": 14,
   "id": "5f5a44c9-e9fc-4d20-a8ae-a7956aa57da0",
   "metadata": {},
   "outputs": [
    {
     "data": {
      "text/latex": [
       "$\\displaystyle 5.0$"
      ],
      "text/plain": [
       "5.00000000000000"
      ]
     },
     "execution_count": 14,
     "metadata": {},
     "output_type": "execute_result"
    }
   ],
   "source": [
    "f.evalf(subs = {x : 2, y : 1})"
   ]
  },
  {
   "cell_type": "code",
   "execution_count": 15,
   "id": "3dbf943c-c1d8-43bb-874e-92ffc48ad2a4",
   "metadata": {},
   "outputs": [
    {
     "data": {
      "text/latex": [
       "$\\displaystyle 2.0$"
      ],
      "text/plain": [
       "2.00000000000000"
      ]
     },
     "execution_count": 15,
     "metadata": {},
     "output_type": "execute_result"
    }
   ],
   "source": [
    "g.evalf(subs = {x : 2, y : 1})"
   ]
  },
  {
   "cell_type": "code",
   "execution_count": null,
   "id": "e1b39c1d-a9e8-4553-8460-279c0249ef12",
   "metadata": {},
   "outputs": [],
   "source": []
  }
 ],
 "metadata": {
  "kernelspec": {
   "display_name": "Python 3 (ipykernel)",
   "language": "python",
   "name": "python3"
  },
  "language_info": {
   "codemirror_mode": {
    "name": "ipython",
    "version": 3
   },
   "file_extension": ".py",
   "mimetype": "text/x-python",
   "name": "python",
   "nbconvert_exporter": "python",
   "pygments_lexer": "ipython3",
   "version": "3.9.7"
  }
 },
 "nbformat": 4,
 "nbformat_minor": 5
}
